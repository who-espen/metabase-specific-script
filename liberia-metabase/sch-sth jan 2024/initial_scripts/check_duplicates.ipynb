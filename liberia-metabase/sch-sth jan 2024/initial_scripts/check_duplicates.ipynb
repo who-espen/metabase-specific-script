{
 "cells": [
  {
   "cell_type": "code",
   "execution_count": 15,
   "metadata": {
    "vscode": {
     "languageId": "r"
    }
   },
   "outputs": [],
   "source": [
    "# Load libraries\n",
    "library(tidyverse)\n",
    "library(RPostgreSQL)"
   ]
  },
  {
   "cell_type": "code",
   "execution_count": 46,
   "metadata": {
    "vscode": {
     "languageId": "r"
    }
   },
   "outputs": [],
   "source": [
    "#Connect to database\n",
    "\n",
    "host <- Sys.getenv(\"PG_HOST\")\n",
    "user <- Sys.getenv(\"PG_USER\")\n",
    "password <- Sys.getenv(\"PG_PASSWORD\")\n",
    "\n",
    "con <- dbConnect(RPostgres::Postgres(),\n",
    "    dbname = \"liberia_espen\",\n",
    "    host = host,\n",
    "    port = 5432,\n",
    "    user = user,\n",
    "    password = password\n",
    ")\n",
    "\n",
    "# Read the views into data frames\n",
    "child_view <- dbGetQuery(con, \"SELECT * FROM v_espen_lr_sch_sth_impact_202401_2_child_v2_1\")\n",
    "kato_katz <- dbGetQuery(con, \"SELECT * FROM v_espen_lr_sch_sth_impact_202401_3_kato_katz_v2_1\")\n",
    "urine_result_view <- dbGetQuery(con, \"SELECT * FROM v_espen_lr_sch_sth_impact_202401_4_urine_v2_1\")\n",
    "metabase_dups <- dbGetQuery(con, \"SELECT * FROM metabase_lr_sch_sth_202401_ia_duplicates\")\n",
    "\n",
    "# Close the database connection\n",
    "dbDisconnect(con)"
   ]
  },
  {
   "cell_type": "markdown",
   "metadata": {},
   "source": [
    "## Identify all duplicates"
   ]
  },
  {
   "cell_type": "code",
   "execution_count": 47,
   "metadata": {
    "vscode": {
     "languageId": "r"
    }
   },
   "outputs": [
    {
     "data": {
      "text/html": [
       "<table class=\"dataframe\">\n",
       "<caption>A grouped_df: 2 × 2</caption>\n",
       "<thead>\n",
       "\t<tr><th scope=col>id</th><th scope=col>p_code_id</th></tr>\n",
       "\t<tr><th scope=col>&lt;int&gt;</th><th scope=col>&lt;chr&gt;</th></tr>\n",
       "</thead>\n",
       "<tbody>\n",
       "\t<tr><td>        1</td><td>168_9</td></tr>\n",
       "\t<tr><td>100000000</td><td>168_9</td></tr>\n",
       "</tbody>\n",
       "</table>\n"
      ],
      "text/latex": [
       "A grouped\\_df: 2 × 2\n",
       "\\begin{tabular}{ll}\n",
       " id & p\\_code\\_id\\\\\n",
       " <int> & <chr>\\\\\n",
       "\\hline\n",
       "\t         1 & 168\\_9\\\\\n",
       "\t 100000000 & 168\\_9\\\\\n",
       "\\end{tabular}\n"
      ],
      "text/markdown": [
       "\n",
       "A grouped_df: 2 × 2\n",
       "\n",
       "| id &lt;int&gt; | p_code_id &lt;chr&gt; |\n",
       "|---|---|\n",
       "|         1 | 168_9 |\n",
       "| 100000000 | 168_9 |\n",
       "\n"
      ],
      "text/plain": [
       "  id        p_code_id\n",
       "1         1 168_9    \n",
       "2 100000000 168_9    "
      ]
     },
     "metadata": {},
     "output_type": "display_data"
    },
    {
     "data": {
      "text/html": [
       "<table class=\"dataframe\">\n",
       "<caption>A data.frame: 0 × 9</caption>\n",
       "<thead>\n",
       "\t<tr><th scope=col>id</th><th scope=col>id_participant</th><th scope=col>barcode_participant</th><th scope=col>id_results_kk</th><th scope=col>barcode_results_kk</th><th scope=col>id_results_urine</th><th scope=col>barcode_results_urine</th><th scope=col>form</th><th scope=col>status</th></tr>\n",
       "\t<tr><th scope=col>&lt;int&gt;</th><th scope=col>&lt;int&gt;</th><th scope=col>&lt;chr&gt;</th><th scope=col>&lt;int&gt;</th><th scope=col>&lt;chr&gt;</th><th scope=col>&lt;int&gt;</th><th scope=col>&lt;chr&gt;</th><th scope=col>&lt;chr&gt;</th><th scope=col>&lt;chr&gt;</th></tr>\n",
       "</thead>\n",
       "<tbody>\n",
       "</tbody>\n",
       "</table>\n"
      ],
      "text/latex": [
       "A data.frame: 0 × 9\n",
       "\\begin{tabular}{lllllllll}\n",
       " id & id\\_participant & barcode\\_participant & id\\_results\\_kk & barcode\\_results\\_kk & id\\_results\\_urine & barcode\\_results\\_urine & form & status\\\\\n",
       " <int> & <int> & <chr> & <int> & <chr> & <int> & <chr> & <chr> & <chr>\\\\\n",
       "\\hline\n",
       "\\end{tabular}\n"
      ],
      "text/markdown": [
       "\n",
       "A data.frame: 0 × 9\n",
       "\n",
       "| id &lt;int&gt; | id_participant &lt;int&gt; | barcode_participant &lt;chr&gt; | id_results_kk &lt;int&gt; | barcode_results_kk &lt;chr&gt; | id_results_urine &lt;int&gt; | barcode_results_urine &lt;chr&gt; | form &lt;chr&gt; | status &lt;chr&gt; |\n",
       "|---|---|---|---|---|---|---|---|---|\n",
       "\n"
      ],
      "text/plain": [
       "     id id_participant barcode_participant id_results_kk barcode_results_kk\n",
       "     id_results_urine barcode_results_urine form status"
      ]
     },
     "metadata": {},
     "output_type": "display_data"
    }
   ],
   "source": [
    "child_view_dups <- child_view %>%\n",
    "    group_by(p_code_id) %>%\n",
    "    filter(n() > 1) %>%\n",
    "    select(id, p_code_id) %>%\n",
    "    distinct()\n",
    "\n",
    "kk_dups <- kato_katz %>%\n",
    "  group_by(k_code_id) %>%\n",
    "  filter(n() > 1) %>%\n",
    "  select(id, k_code_id) %>%\n",
    "  distinct()\n",
    "\n",
    "urine_dups <- urine_result_view %>%\n",
    "    group_by(u_code_id) %>%\n",
    "    filter(n() > 1) %>%\n",
    "    select(id, u_code_id) %>%\n",
    "    distinct()\n",
    "\n",
    "head(child_view_dups)\n",
    "head(metabase_dups)\n"
   ]
  },
  {
   "cell_type": "markdown",
   "metadata": {},
   "source": [
    "## Load and update Metabase_dups"
   ]
  },
  {
   "cell_type": "code",
   "execution_count": 49,
   "metadata": {
    "vscode": {
     "languageId": "r"
    }
   },
   "outputs": [
    {
     "data": {
      "text/html": [
       "<table class=\"dataframe\">\n",
       "<caption>A data.frame: 4 × 9</caption>\n",
       "<thead>\n",
       "\t<tr><th></th><th scope=col>id</th><th scope=col>id_participant</th><th scope=col>barcode_participant</th><th scope=col>id_results_kk</th><th scope=col>barcode_results_kk</th><th scope=col>id_results_urine</th><th scope=col>barcode_results_urine</th><th scope=col>form</th><th scope=col>status</th></tr>\n",
       "\t<tr><th></th><th scope=col>&lt;int&gt;</th><th scope=col>&lt;int&gt;</th><th scope=col>&lt;chr&gt;</th><th scope=col>&lt;int&gt;</th><th scope=col>&lt;chr&gt;</th><th scope=col>&lt;int&gt;</th><th scope=col>&lt;chr&gt;</th><th scope=col>&lt;chr&gt;</th><th scope=col>&lt;chr&gt;</th></tr>\n",
       "</thead>\n",
       "<tbody>\n",
       "\t<tr><th scope=row>1</th><td>NA</td><td>        1</td><td>168_9</td><td>NA</td><td>NA</td><td>NA</td><td>NA</td><td>NA</td><td>Unsolved</td></tr>\n",
       "\t<tr><th scope=row>2</th><td>NA</td><td>100000000</td><td>168_9</td><td>NA</td><td>NA</td><td>NA</td><td>NA</td><td>NA</td><td>Unsolved</td></tr>\n",
       "\t<tr><th scope=row>3</th><td>NA</td><td>        1</td><td>168_9</td><td>NA</td><td>NA</td><td>NA</td><td>NA</td><td>NA</td><td>Unsolved</td></tr>\n",
       "\t<tr><th scope=row>4</th><td>NA</td><td>100000000</td><td>168_9</td><td>NA</td><td>NA</td><td>NA</td><td>NA</td><td>NA</td><td>Unsolved</td></tr>\n",
       "</tbody>\n",
       "</table>\n"
      ],
      "text/latex": [
       "A data.frame: 4 × 9\n",
       "\\begin{tabular}{r|lllllllll}\n",
       "  & id & id\\_participant & barcode\\_participant & id\\_results\\_kk & barcode\\_results\\_kk & id\\_results\\_urine & barcode\\_results\\_urine & form & status\\\\\n",
       "  & <int> & <int> & <chr> & <int> & <chr> & <int> & <chr> & <chr> & <chr>\\\\\n",
       "\\hline\n",
       "\t1 & NA &         1 & 168\\_9 & NA & NA & NA & NA & NA & Unsolved\\\\\n",
       "\t2 & NA & 100000000 & 168\\_9 & NA & NA & NA & NA & NA & Unsolved\\\\\n",
       "\t3 & NA &         1 & 168\\_9 & NA & NA & NA & NA & NA & Unsolved\\\\\n",
       "\t4 & NA & 100000000 & 168\\_9 & NA & NA & NA & NA & NA & Unsolved\\\\\n",
       "\\end{tabular}\n"
      ],
      "text/markdown": [
       "\n",
       "A data.frame: 4 × 9\n",
       "\n",
       "| <!--/--> | id &lt;int&gt; | id_participant &lt;int&gt; | barcode_participant &lt;chr&gt; | id_results_kk &lt;int&gt; | barcode_results_kk &lt;chr&gt; | id_results_urine &lt;int&gt; | barcode_results_urine &lt;chr&gt; | form &lt;chr&gt; | status &lt;chr&gt; |\n",
       "|---|---|---|---|---|---|---|---|---|---|\n",
       "| 1 | NA |         1 | 168_9 | NA | NA | NA | NA | NA | Unsolved |\n",
       "| 2 | NA | 100000000 | 168_9 | NA | NA | NA | NA | NA | Unsolved |\n",
       "| 3 | NA |         1 | 168_9 | NA | NA | NA | NA | NA | Unsolved |\n",
       "| 4 | NA | 100000000 | 168_9 | NA | NA | NA | NA | NA | Unsolved |\n",
       "\n"
      ],
      "text/plain": [
       "  id id_participant barcode_participant id_results_kk barcode_results_kk\n",
       "1 NA         1      168_9               NA            NA                \n",
       "2 NA 100000000      168_9               NA            NA                \n",
       "3 NA         1      168_9               NA            NA                \n",
       "4 NA 100000000      168_9               NA            NA                \n",
       "  id_results_urine barcode_results_urine form status  \n",
       "1 NA               NA                    NA   Unsolved\n",
       "2 NA               NA                    NA   Unsolved\n",
       "3 NA               NA                    NA   Unsolved\n",
       "4 NA               NA                    NA   Unsolved"
      ]
     },
     "metadata": {},
     "output_type": "display_data"
    }
   ],
   "source": [
    "for (i in 1:nrow(child_view_dups)) {\n",
    "  id <- child_view_dups$id[i]\n",
    "  p_code_id <- child_view_dups$p_code_id[i]\n",
    "\n",
    "  # Check if a matching record exists in Metabase_lr_sch_sth_202401_ia_duplicates\n",
    "  matching_record <- metabase_dups %>%\n",
    "    filter(id_participant == id, barcode_participant == p_code_id)\n",
    "\n",
    "  if (nrow(matching_record) == 0) {\n",
    "    # Insert a new record into Metabase_dups\n",
    "    new_record <- tibble(\n",
    "      # id = max(metabase_dups$id, na.rm = TRUE) + 1,\n",
    "      id_participant = id,\n",
    "      barcode_participant = p_code_id,\n",
    "      status = 'Unsolved',\n",
    "      # Other columns set to NULL\n",
    "    )\n",
    "    metabase_dups <- bind_rows(metabase_dups, new_record)\n",
    "  }\n",
    "}\n",
    "\n",
    "# Update all remaining records in Metabase_lr_sch_sth_202401_ia_duplicates to 'Unsolved'\n",
    "# Metabase_lr_sch_sth_202401_ia_duplicates %>%\n",
    "#   left_join(Metabase_dups, by = c(\"id_participant\" = \"id\", \"barcode_participant\" = \"p_code_id\")) %>%\n",
    "#   mutate(status = ifelse(is.na(id_participant), 'Unsolved', status)) %>%\n",
    "#   select(-id_participant, -barcode_participant) %>%\n",
    "#   rename(id_participant = id, barcode_participant = p_code_id) -> metabase_dups\n",
    "\n",
    "# Display the first few rows of Metabase_dups\n",
    "head(metabase_dups)\n"
   ]
  }
 ],
 "metadata": {
  "kernelspec": {
   "display_name": "R",
   "language": "R",
   "name": "ir"
  },
  "language_info": {
   "codemirror_mode": "r",
   "file_extension": ".r",
   "mimetype": "text/x-r-source",
   "name": "R",
   "pygments_lexer": "r",
   "version": "4.3.1"
  }
 },
 "nbformat": 4,
 "nbformat_minor": 2
}
